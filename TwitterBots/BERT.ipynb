{
 "cells": [
  {
   "cell_type": "code",
   "execution_count": 1,
   "id": "ignored-bunny",
   "metadata": {},
   "outputs": [],
   "source": [
    "from ernie import SentenceClassifier, Models\n",
    "import pandas as pd"
   ]
  },
  {
   "cell_type": "code",
   "execution_count": 2,
   "id": "charming-screening",
   "metadata": {},
   "outputs": [],
   "source": [
    "# !pip install transformers\n",
    "# !pip install torch==1.8.0\n",
    "# !pip install ernie"
   ]
  },
  {
   "cell_type": "code",
   "execution_count": 2,
   "id": "photographic-consequence",
   "metadata": {},
   "outputs": [],
   "source": [
    "df = pd.read_csv('bitcoindata.csv')\n",
    "df.columns = ['SentimentText', 'Sentiment']"
   ]
  },
  {
   "cell_type": "code",
   "execution_count": 3,
   "id": "iraqi-services",
   "metadata": {},
   "outputs": [],
   "source": [
    "mapper = {'Bearish': 0, 'Neutral': 1, 'Bullish': 2}\n",
    "\n",
    "df.Sentiment =df.Sentiment.map(mapper)"
   ]
  },
  {
   "cell_type": "code",
   "execution_count": 4,
   "id": "general-force",
   "metadata": {},
   "outputs": [],
   "source": [
    "df = df[:200]\n"
   ]
  },
  {
   "cell_type": "code",
   "execution_count": 5,
   "id": "statutory-mistake",
   "metadata": {},
   "outputs": [],
   "source": [
    "classifier = SentenceClassifier(model_name='xlm-roberta-base', max_length=64)"
   ]
  },
  {
   "cell_type": "code",
   "execution_count": 6,
   "id": "minus-winter",
   "metadata": {},
   "outputs": [],
   "source": [
    "classifier.load_dataset(df, validation_split=0.2)"
   ]
  },
  {
   "cell_type": "code",
   "execution_count": null,
   "id": "considered-steel",
   "metadata": {
    "scrolled": true
   },
   "outputs": [
    {
     "name": "stdout",
     "output_type": "stream",
     "text": [
      "WARNING:tensorflow:Gradients do not exist for variables ['tf_roberta_for_sequence_classification_1/roberta/pooler/dense/kernel:0', 'tf_roberta_for_sequence_classification_1/roberta/pooler/dense/bias:0'] when minimizing the loss.\n"
     ]
    },
    {
     "name": "stderr",
     "output_type": "stream",
     "text": [
      "2021-03-27 23:29:53 [WARNING] Gradients do not exist for variables ['tf_roberta_for_sequence_classification_1/roberta/pooler/dense/kernel:0', 'tf_roberta_for_sequence_classification_1/roberta/pooler/dense/bias:0'] when minimizing the loss.\n"
     ]
    },
    {
     "name": "stdout",
     "output_type": "stream",
     "text": [
      "WARNING:tensorflow:Gradients do not exist for variables ['tf_roberta_for_sequence_classification_1/roberta/pooler/dense/kernel:0', 'tf_roberta_for_sequence_classification_1/roberta/pooler/dense/bias:0'] when minimizing the loss.\n"
     ]
    },
    {
     "name": "stderr",
     "output_type": "stream",
     "text": [
      "2021-03-27 23:29:59 [WARNING] Gradients do not exist for variables ['tf_roberta_for_sequence_classification_1/roberta/pooler/dense/kernel:0', 'tf_roberta_for_sequence_classification_1/roberta/pooler/dense/bias:0'] when minimizing the loss.\n"
     ]
    }
   ],
   "source": [
    "classifier.fine_tune(epochs=5, learning_rate=2e-5)"
   ]
  },
  {
   "cell_type": "code",
   "execution_count": null,
   "id": "portuguese-rehabilitation",
   "metadata": {},
   "outputs": [],
   "source": [
    "import numpy as np\n",
    "text = \"sell this stock NOW\"\n",
    "\n",
    "# It returns a tuple with the prediction\n",
    "probabilities = classifier.predict_one(text)"
   ]
  }
 ],
 "metadata": {
  "kernelspec": {
   "display_name": "Python 3",
   "language": "python",
   "name": "python3"
  },
  "language_info": {
   "codemirror_mode": {
    "name": "ipython",
    "version": 3
   },
   "file_extension": ".py",
   "mimetype": "text/x-python",
   "name": "python",
   "nbconvert_exporter": "python",
   "pygments_lexer": "ipython3",
   "version": "3.6.12"
  }
 },
 "nbformat": 4,
 "nbformat_minor": 5
}
