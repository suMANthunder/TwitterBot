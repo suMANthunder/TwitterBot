{
 "cells": [
  {
   "cell_type": "code",
   "execution_count": 2,
   "id": "ignored-bunny",
   "metadata": {},
   "outputs": [],
   "source": [
    "from ernie import SentenceClassifier, Models\n",
    "import pandas as pd"
   ]
  },
  {
   "cell_type": "code",
   "execution_count": 10,
   "id": "charming-screening",
   "metadata": {},
   "outputs": [
    {
     "name": "stdout",
     "output_type": "stream",
     "text": [
      "Requirement already satisfied: ernie in c:\\users\\tmp\\anaconda3\\envs\\sentimenttrading\\lib\\site-packages (0.0.33b0)\n",
      "Requirement already satisfied: scikit-learn>=0.22.1 in c:\\users\\tmp\\anaconda3\\envs\\sentimenttrading\\lib\\site-packages (from ernie) (0.24.1)\n",
      "Requirement already satisfied: transformers==2.4.1 in c:\\users\\tmp\\anaconda3\\envs\\sentimenttrading\\lib\\site-packages (from ernie) (2.4.1)\n",
      "Requirement already satisfied: pandas>=0.25.3 in c:\\users\\tmp\\anaconda3\\envs\\sentimenttrading\\lib\\site-packages (from ernie) (1.1.5)\n",
      "Requirement already satisfied: py-cpuinfo==5.0.0 in c:\\users\\tmp\\anaconda3\\envs\\sentimenttrading\\lib\\site-packages (from ernie) (5.0.0)\n",
      "Requirement already satisfied: tensorflow!=2.2.0-rc0,!=2.2.0rc1,>=2.1.0 in c:\\users\\tmp\\anaconda3\\envs\\sentimenttrading\\lib\\site-packages (from ernie) (2.4.1)\n",
      "Requirement already satisfied: filelock in c:\\users\\tmp\\anaconda3\\envs\\sentimenttrading\\lib\\site-packages (from transformers==2.4.1->ernie) (3.0.12)\n",
      "Requirement already satisfied: boto3 in c:\\users\\tmp\\anaconda3\\envs\\sentimenttrading\\lib\\site-packages (from transformers==2.4.1->ernie) (1.17.39)\n",
      "Requirement already satisfied: tqdm>=4.27 in c:\\users\\tmp\\anaconda3\\envs\\sentimenttrading\\lib\\site-packages (from transformers==2.4.1->ernie) (4.59.0)\n",
      "Requirement already satisfied: sentencepiece in c:\\users\\tmp\\anaconda3\\envs\\sentimenttrading\\lib\\site-packages (from transformers==2.4.1->ernie) (0.1.95)\n",
      "Requirement already satisfied: sacremoses in c:\\users\\tmp\\anaconda3\\envs\\sentimenttrading\\lib\\site-packages (from transformers==2.4.1->ernie) (0.0.43)\n",
      "Requirement already satisfied: requests in c:\\users\\tmp\\anaconda3\\envs\\sentimenttrading\\lib\\site-packages (from transformers==2.4.1->ernie) (2.25.1)\n",
      "Requirement already satisfied: numpy in c:\\users\\tmp\\anaconda3\\envs\\sentimenttrading\\lib\\site-packages (from transformers==2.4.1->ernie) (1.19.5)\n",
      "Requirement already satisfied: tokenizers==0.0.11 in c:\\users\\tmp\\anaconda3\\envs\\sentimenttrading\\lib\\site-packages (from transformers==2.4.1->ernie) (0.0.11)\n",
      "Requirement already satisfied: regex!=2019.12.17 in c:\\users\\tmp\\anaconda3\\envs\\sentimenttrading\\lib\\site-packages (from transformers==2.4.1->ernie) (2020.11.13)\n",
      "Requirement already satisfied: python-dateutil>=2.7.3 in c:\\users\\tmp\\anaconda3\\envs\\sentimenttrading\\lib\\site-packages (from pandas>=0.25.3->ernie) (2.8.1)\n",
      "Requirement already satisfied: pytz>=2017.2 in c:\\users\\tmp\\anaconda3\\envs\\sentimenttrading\\lib\\site-packages (from pandas>=0.25.3->ernie) (2021.1)\n",
      "Requirement already satisfied: six>=1.5 in c:\\users\\tmp\\anaconda3\\envs\\sentimenttrading\\lib\\site-packages (from python-dateutil>=2.7.3->pandas>=0.25.3->ernie) (1.15.0)\n",
      "Requirement already satisfied: joblib>=0.11 in c:\\users\\tmp\\anaconda3\\envs\\sentimenttrading\\lib\\site-packages (from scikit-learn>=0.22.1->ernie) (1.0.1)\n",
      "Requirement already satisfied: threadpoolctl>=2.0.0 in c:\\users\\tmp\\anaconda3\\envs\\sentimenttrading\\lib\\site-packages (from scikit-learn>=0.22.1->ernie) (2.1.0)\n",
      "Requirement already satisfied: scipy>=0.19.1 in c:\\users\\tmp\\anaconda3\\envs\\sentimenttrading\\lib\\site-packages (from scikit-learn>=0.22.1->ernie) (1.4.1)\n",
      "Requirement already satisfied: gast==0.3.3 in c:\\users\\tmp\\anaconda3\\envs\\sentimenttrading\\lib\\site-packages (from tensorflow!=2.2.0-rc0,!=2.2.0rc1,>=2.1.0->ernie) (0.3.3)\n",
      "Requirement already satisfied: grpcio~=1.32.0 in c:\\users\\tmp\\anaconda3\\envs\\sentimenttrading\\lib\\site-packages (from tensorflow!=2.2.0-rc0,!=2.2.0rc1,>=2.1.0->ernie) (1.32.0)\n",
      "Requirement already satisfied: keras-preprocessing~=1.1.2 in c:\\users\\tmp\\anaconda3\\envs\\sentimenttrading\\lib\\site-packages (from tensorflow!=2.2.0-rc0,!=2.2.0rc1,>=2.1.0->ernie) (1.1.2)\n",
      "Requirement already satisfied: wheel~=0.35 in c:\\users\\tmp\\anaconda3\\envs\\sentimenttrading\\lib\\site-packages (from tensorflow!=2.2.0-rc0,!=2.2.0rc1,>=2.1.0->ernie) (0.36.2)\n",
      "Requirement already satisfied: google-pasta~=0.2 in c:\\users\\tmp\\anaconda3\\envs\\sentimenttrading\\lib\\site-packages (from tensorflow!=2.2.0-rc0,!=2.2.0rc1,>=2.1.0->ernie) (0.2.0)\n",
      "Requirement already satisfied: tensorboard~=2.4 in c:\\users\\tmp\\anaconda3\\envs\\sentimenttrading\\lib\\site-packages (from tensorflow!=2.2.0-rc0,!=2.2.0rc1,>=2.1.0->ernie) (2.4.1)\n",
      "Requirement already satisfied: wrapt~=1.12.1 in c:\\users\\tmp\\anaconda3\\envs\\sentimenttrading\\lib\\site-packages (from tensorflow!=2.2.0-rc0,!=2.2.0rc1,>=2.1.0->ernie) (1.12.1)\n",
      "Requirement already satisfied: flatbuffers~=1.12.0 in c:\\users\\tmp\\anaconda3\\envs\\sentimenttrading\\lib\\site-packages (from tensorflow!=2.2.0-rc0,!=2.2.0rc1,>=2.1.0->ernie) (1.12)\n",
      "Requirement already satisfied: termcolor~=1.1.0 in c:\\users\\tmp\\anaconda3\\envs\\sentimenttrading\\lib\\site-packages (from tensorflow!=2.2.0-rc0,!=2.2.0rc1,>=2.1.0->ernie) (1.1.0)\n",
      "Requirement already satisfied: protobuf>=3.9.2 in c:\\users\\tmp\\anaconda3\\envs\\sentimenttrading\\lib\\site-packages (from tensorflow!=2.2.0-rc0,!=2.2.0rc1,>=2.1.0->ernie) (3.15.6)\n",
      "Requirement already satisfied: typing-extensions~=3.7.4 in c:\\users\\tmp\\anaconda3\\envs\\sentimenttrading\\lib\\site-packages (from tensorflow!=2.2.0-rc0,!=2.2.0rc1,>=2.1.0->ernie) (3.7.4.3)\n",
      "Requirement already satisfied: tensorflow-estimator<2.5.0,>=2.4.0 in c:\\users\\tmp\\anaconda3\\envs\\sentimenttrading\\lib\\site-packages (from tensorflow!=2.2.0-rc0,!=2.2.0rc1,>=2.1.0->ernie) (2.4.0)\n",
      "Requirement already satisfied: absl-py~=0.10 in c:\\users\\tmp\\anaconda3\\envs\\sentimenttrading\\lib\\site-packages (from tensorflow!=2.2.0-rc0,!=2.2.0rc1,>=2.1.0->ernie) (0.12.0)\n",
      "Requirement already satisfied: opt-einsum~=3.3.0 in c:\\users\\tmp\\anaconda3\\envs\\sentimenttrading\\lib\\site-packages (from tensorflow!=2.2.0-rc0,!=2.2.0rc1,>=2.1.0->ernie) (3.3.0)\n",
      "Requirement already satisfied: h5py~=2.10.0 in c:\\users\\tmp\\anaconda3\\envs\\sentimenttrading\\lib\\site-packages (from tensorflow!=2.2.0-rc0,!=2.2.0rc1,>=2.1.0->ernie) (2.10.0)\n",
      "Requirement already satisfied: astunparse~=1.6.3 in c:\\users\\tmp\\anaconda3\\envs\\sentimenttrading\\lib\\site-packages (from tensorflow!=2.2.0-rc0,!=2.2.0rc1,>=2.1.0->ernie) (1.6.3)\n",
      "Requirement already satisfied: werkzeug>=0.11.15 in c:\\users\\tmp\\anaconda3\\envs\\sentimenttrading\\lib\\site-packages (from tensorboard~=2.4->tensorflow!=2.2.0-rc0,!=2.2.0rc1,>=2.1.0->ernie) (1.0.1)\n",
      "Requirement already satisfied: markdown>=2.6.8 in c:\\users\\tmp\\anaconda3\\envs\\sentimenttrading\\lib\\site-packages (from tensorboard~=2.4->tensorflow!=2.2.0-rc0,!=2.2.0rc1,>=2.1.0->ernie) (3.3.4)\n",
      "Requirement already satisfied: google-auth<2,>=1.6.3 in c:\\users\\tmp\\anaconda3\\envs\\sentimenttrading\\lib\\site-packages (from tensorboard~=2.4->tensorflow!=2.2.0-rc0,!=2.2.0rc1,>=2.1.0->ernie) (1.28.0)\n",
      "Requirement already satisfied: tensorboard-plugin-wit>=1.6.0 in c:\\users\\tmp\\anaconda3\\envs\\sentimenttrading\\lib\\site-packages (from tensorboard~=2.4->tensorflow!=2.2.0-rc0,!=2.2.0rc1,>=2.1.0->ernie) (1.8.0)\n",
      "Requirement already satisfied: setuptools>=41.0.0 in c:\\users\\tmp\\anaconda3\\envs\\sentimenttrading\\lib\\site-packages (from tensorboard~=2.4->tensorflow!=2.2.0-rc0,!=2.2.0rc1,>=2.1.0->ernie) (52.0.0.post20210125)\n",
      "Requirement already satisfied: google-auth-oauthlib<0.5,>=0.4.1 in c:\\users\\tmp\\anaconda3\\envs\\sentimenttrading\\lib\\site-packages (from tensorboard~=2.4->tensorflow!=2.2.0-rc0,!=2.2.0rc1,>=2.1.0->ernie) (0.4.3)\n",
      "Requirement already satisfied: cachetools<5.0,>=2.0.0 in c:\\users\\tmp\\anaconda3\\envs\\sentimenttrading\\lib\\site-packages (from google-auth<2,>=1.6.3->tensorboard~=2.4->tensorflow!=2.2.0-rc0,!=2.2.0rc1,>=2.1.0->ernie) (4.2.1)\n",
      "Requirement already satisfied: rsa<5,>=3.1.4 in c:\\users\\tmp\\anaconda3\\envs\\sentimenttrading\\lib\\site-packages (from google-auth<2,>=1.6.3->tensorboard~=2.4->tensorflow!=2.2.0-rc0,!=2.2.0rc1,>=2.1.0->ernie) (4.7.2)\n",
      "Requirement already satisfied: pyasn1-modules>=0.2.1 in c:\\users\\tmp\\anaconda3\\envs\\sentimenttrading\\lib\\site-packages (from google-auth<2,>=1.6.3->tensorboard~=2.4->tensorflow!=2.2.0-rc0,!=2.2.0rc1,>=2.1.0->ernie) (0.2.8)\n",
      "Requirement already satisfied: requests-oauthlib>=0.7.0 in c:\\users\\tmp\\anaconda3\\envs\\sentimenttrading\\lib\\site-packages (from google-auth-oauthlib<0.5,>=0.4.1->tensorboard~=2.4->tensorflow!=2.2.0-rc0,!=2.2.0rc1,>=2.1.0->ernie) (1.3.0)\n",
      "Requirement already satisfied: importlib-metadata in c:\\users\\tmp\\anaconda3\\envs\\sentimenttrading\\lib\\site-packages (from markdown>=2.6.8->tensorboard~=2.4->tensorflow!=2.2.0-rc0,!=2.2.0rc1,>=2.1.0->ernie) (3.7.3)\n",
      "Requirement already satisfied: pyasn1<0.5.0,>=0.4.6 in c:\\users\\tmp\\anaconda3\\envs\\sentimenttrading\\lib\\site-packages (from pyasn1-modules>=0.2.1->google-auth<2,>=1.6.3->tensorboard~=2.4->tensorflow!=2.2.0-rc0,!=2.2.0rc1,>=2.1.0->ernie) (0.4.8)\n",
      "Requirement already satisfied: urllib3<1.27,>=1.21.1 in c:\\users\\tmp\\anaconda3\\envs\\sentimenttrading\\lib\\site-packages (from requests->transformers==2.4.1->ernie) (1.26.4)\n",
      "Requirement already satisfied: chardet<5,>=3.0.2 in c:\\users\\tmp\\anaconda3\\envs\\sentimenttrading\\lib\\site-packages (from requests->transformers==2.4.1->ernie) (4.0.0)\n",
      "Requirement already satisfied: certifi>=2017.4.17 in c:\\users\\tmp\\anaconda3\\envs\\sentimenttrading\\lib\\site-packages (from requests->transformers==2.4.1->ernie) (2020.12.5)\n",
      "Requirement already satisfied: idna<3,>=2.5 in c:\\users\\tmp\\anaconda3\\envs\\sentimenttrading\\lib\\site-packages (from requests->transformers==2.4.1->ernie) (2.10)\n",
      "Requirement already satisfied: oauthlib>=3.0.0 in c:\\users\\tmp\\anaconda3\\envs\\sentimenttrading\\lib\\site-packages (from requests-oauthlib>=0.7.0->google-auth-oauthlib<0.5,>=0.4.1->tensorboard~=2.4->tensorflow!=2.2.0-rc0,!=2.2.0rc1,>=2.1.0->ernie) (3.1.0)\n",
      "Requirement already satisfied: s3transfer<0.4.0,>=0.3.0 in c:\\users\\tmp\\anaconda3\\envs\\sentimenttrading\\lib\\site-packages (from boto3->transformers==2.4.1->ernie) (0.3.6)\n",
      "Requirement already satisfied: botocore<1.21.0,>=1.20.39 in c:\\users\\tmp\\anaconda3\\envs\\sentimenttrading\\lib\\site-packages (from boto3->transformers==2.4.1->ernie) (1.20.39)\n",
      "Requirement already satisfied: jmespath<1.0.0,>=0.7.1 in c:\\users\\tmp\\anaconda3\\envs\\sentimenttrading\\lib\\site-packages (from boto3->transformers==2.4.1->ernie) (0.10.0)\n"
     ]
    },
    {
     "name": "stdout",
     "output_type": "stream",
     "text": [
      "Requirement already satisfied: zipp>=0.5 in c:\\users\\tmp\\anaconda3\\envs\\sentimenttrading\\lib\\site-packages (from importlib-metadata->markdown>=2.6.8->tensorboard~=2.4->tensorflow!=2.2.0-rc0,!=2.2.0rc1,>=2.1.0->ernie) (3.4.1)\n",
      "Requirement already satisfied: click in c:\\users\\tmp\\anaconda3\\envs\\sentimenttrading\\lib\\site-packages (from sacremoses->transformers==2.4.1->ernie) (7.1.2)\n"
     ]
    }
   ],
   "source": [
    "# !pip install transformers\n",
    "# !pip install torch==1.8.0\n",
    "# !pip install ernie"
   ]
  },
  {
   "cell_type": "code",
   "execution_count": 8,
   "id": "photographic-consequence",
   "metadata": {},
   "outputs": [],
   "source": [
    "df = pd.read_csv('bitcoindata.csv')\n",
    "df.columns = ['SentimentText', 'Sentiment']"
   ]
  },
  {
   "cell_type": "code",
   "execution_count": 9,
   "id": "christian-shield",
   "metadata": {},
   "outputs": [],
   "source": [
    "mapper = {'Bearish': 0, 'Neutral': 1, 'Bullish': 2}\n",
    "\n",
    "df.Sentiment =df.Sentiment.map(mapper)"
   ]
  },
  {
   "cell_type": "code",
   "execution_count": 14,
   "id": "sharing-night",
   "metadata": {},
   "outputs": [],
   "source": [
    "df = df[:200]\n"
   ]
  },
  {
   "cell_type": "code",
   "execution_count": 12,
   "id": "proud-multimedia",
   "metadata": {},
   "outputs": [],
   "source": [
    "classifier = SentenceClassifier(model_name='xlm-roberta-base', max_length=64)"
   ]
  },
  {
   "cell_type": "code",
   "execution_count": 15,
   "id": "affiliated-replacement",
   "metadata": {},
   "outputs": [],
   "source": [
    "classifier.load_dataset(df, validation_split=0.2)"
   ]
  },
  {
   "cell_type": "code",
   "execution_count": null,
   "id": "embedded-consumption",
   "metadata": {},
   "outputs": [
    {
     "name": "stdout",
     "output_type": "stream",
     "text": [
      "WARNING:tensorflow:Gradients do not exist for variables ['tf_roberta_for_sequence_classification_1/roberta/pooler/dense/kernel:0', 'tf_roberta_for_sequence_classification_1/roberta/pooler/dense/bias:0'] when minimizing the loss.\n"
     ]
    },
    {
     "name": "stderr",
     "output_type": "stream",
     "text": [
      "2021-03-27 23:25:20 [WARNING] Gradients do not exist for variables ['tf_roberta_for_sequence_classification_1/roberta/pooler/dense/kernel:0', 'tf_roberta_for_sequence_classification_1/roberta/pooler/dense/bias:0'] when minimizing the loss.\n"
     ]
    }
   ],
   "source": [
    "classifier.fine_tune(epochs=5, learning_rate=2e-5)"
   ]
  },
  {
   "cell_type": "code",
   "execution_count": null,
   "id": "intellectual-inside",
   "metadata": {},
   "outputs": [],
   "source": [
    "import numpy as np\n",
    "text = \"sell this stock NOW\"\n",
    "\n",
    "# It returns a tuple with the prediction\n",
    "probabilities = classifier.predict_one(text)"
   ]
  }
 ],
 "metadata": {
  "kernelspec": {
   "display_name": "Python 3",
   "language": "python",
   "name": "python3"
  },
  "language_info": {
   "codemirror_mode": {
    "name": "ipython",
    "version": 3
   },
   "file_extension": ".py",
   "mimetype": "text/x-python",
   "name": "python",
   "nbconvert_exporter": "python",
   "pygments_lexer": "ipython3",
   "version": "3.6.13"
  }
 },
 "nbformat": 4,
 "nbformat_minor": 5
}
